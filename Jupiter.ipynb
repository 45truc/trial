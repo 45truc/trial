{
  "metadata": {
    "language_info": {
      "codemirror_mode": {
        "name": "python",
        "version": 3
      },
      "file_extension": ".py",
      "mimetype": "text/x-python",
      "name": "python",
      "nbconvert_exporter": "python",
      "pygments_lexer": "ipython3",
      "version": "3.8"
    },
    "kernelspec": {
      "name": "python",
      "display_name": "Pyolite",
      "language": "python"
    }
  },
  "nbformat_minor": 4,
  "nbformat": 4,
  "cells": [
    {
      "cell_type": "markdown",
      "source": "<h1> My Jupyter Notebook on IBM Watson Studio ",
      "metadata": {}
    },
    {
      "cell_type": "markdown",
      "source": "<p> <b> Alejandro Astruc Lopez</b> </p>\n<p> Data Scientist. </p>\n",
      "metadata": {}
    },
    {
      "cell_type": "markdown",
      "source": "<i> My interest in data science is due to its many job opportunities as well as the many different industries it can be employed in.",
      "metadata": {}
    },
    {
      "cell_type": "markdown",
      "source": "<h3> The following code divides 62 over 3.",
      "metadata": {}
    },
    {
      "cell_type": "code",
      "source": "62/3",
      "metadata": {
        "trusted": true
      },
      "execution_count": 2,
      "outputs": [
        {
          "execution_count": 2,
          "output_type": "execute_result",
          "data": {
            "text/plain": "20.666666666666668"
          },
          "metadata": {}
        }
      ]
    },
    {
      "cell_type": "markdown",
      "source": "This cell will contain:\n<ul>\n  <li>Bullet list</li>\n  <li>Table</li>\n  <li>hyperlinks</li>\n</ul>\n\n<table>\n  <tr>\n    <th>h1</th>\n    <th>h2</th>\n    <th>h3</th>\n  </tr>\n  <tr>\n    <td><a href=\"https://en.wikipedia.org/wiki/Hyperlink\">link</a></td>\n    <td><a href=\"url\">link text</a></td>\n    <td><a href=\"url\">link text</a></td>\n  </tr>\n</table>",
      "metadata": {}
    },
    {
      "cell_type": "code",
      "source": "",
      "metadata": {},
      "execution_count": null,
      "outputs": []
    }
  ]
}